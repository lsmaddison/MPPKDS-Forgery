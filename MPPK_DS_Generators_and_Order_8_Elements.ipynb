{
  "nbformat": 4,
  "nbformat_minor": 0,
  "metadata": {
    "colab": {
      "provenance": []
    },
    "kernelspec": {
      "name": "python3",
      "display_name": "Python 3"
    },
    "language_info": {
      "name": "python"
    }
  },
  "cells": [
    {
      "cell_type": "code",
      "execution_count": null,
      "metadata": {
        "id": "1Zxr6gFTwRFR"
      },
      "outputs": [],
      "source": [
        "import random\n",
        "import sympy\n",
        "\n",
        "x = 32; n = 6; l = 3; m = 2;\n",
        "\n",
        "#generate the random generalized safe prime\n",
        "while True:\n",
        "  q = sympy.randprime(2**x, 2**(x+1))\n",
        "  if sympy.isprime(2**x*q+1):\n",
        "    p = 2**x*q+1\n",
        "    break\n",
        "\n",
        "p,q\n",
        "\n",
        "R=Integers(p-1);R\n",
        "\n",
        "Rp = Integers(p);Rp\n",
        "\n",
        "counterlist = []\n",
        "\n",
        "genlist = []\n",
        "\n",
        "#find 100 generators using our algorithm and count how many steps required each time\n",
        "for i in range(100):\n",
        "  counter = 0\n",
        "  while True:\n",
        "    counter=counter+1\n",
        "    gen = Rp.random_element()\n",
        "    if ((gen != 0) and (gen**((p-1)/2)!=1) and (gen**((p-1)/q)!= 1)):\n",
        "      counterlist.append(counter)\n",
        "      genlist.append(gen)\n",
        "      break\n",
        "\n",
        "average=sum(counterlist)/len(counterlist)\n",
        "base = genlist[0]**((p-1)/8)\n",
        "print(\"Average number of steps = \", round(average,2))\n",
        "print(\"Sample Generator = \", genlist[0])\n",
        "print(\"Corresponding element of order 8 = \", base)\n"
      ]
    }
  ]
}