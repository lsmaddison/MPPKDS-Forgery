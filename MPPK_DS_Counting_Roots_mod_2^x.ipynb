{
  "nbformat": 4,
  "nbformat_minor": 0,
  "metadata": {
    "colab": {
      "provenance": []
    },
    "kernelspec": {
      "name": "python3",
      "display_name": "Python 3"
    },
    "language_info": {
      "name": "python"
    }
  },
  "cells": [
    {
      "cell_type": "code",
      "execution_count": null,
      "metadata": {
        "id": "F23Ixp17942q"
      },
      "outputs": [],
      "source": [
        "import random\n",
        "import sympy\n",
        "\n",
        "#counting roots of random cubic polynomials mod 2^x\n",
        "\n",
        "#vary x-value\n",
        "x = 1; l = 3\n",
        "\n",
        "R=Integers(2^x)\n",
        "\n",
        "S = PolynomialRing(R, \"x_0\")\n",
        "\n",
        "counterlist = []\n",
        "\n",
        "#generate 100 random polynomials and count roots\n",
        "for t in range(100):\n",
        "  f = [R.random_element() for i in range(l+1)]\n",
        "  counter = 0\n",
        "  for i in R:\n",
        "    if S(f)(i)==0:\n",
        "      counter = counter +1\n",
        "  counterlist.append(counter)\n",
        "\n",
        "#to find out how many polynomials had roots\n",
        "hasroots=0\n",
        "for i in range(len(counterlist)):\n",
        "  if counterlist[i] != 0:\n",
        "    hasroots = hasroots +1\n",
        "\n",
        "hasroots\n",
        "\n",
        "#provides average number of roots\n",
        "average=sum(counterlist)/len(counterlist)\n",
        "average\n"
      ]
    }
  ]
}